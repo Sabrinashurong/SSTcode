{
 "cells": [
  {
   "cell_type": "code",
   "execution_count": 28,
   "metadata": {},
   "outputs": [],
   "source": [
    "from graph import Graph\n",
    "import numpy as np\n",
    "import pandas as pd"
   ]
  },
  {
   "cell_type": "code",
   "execution_count": 38,
   "metadata": {},
   "outputs": [],
   "source": [
    "df = pd.read_csv('inputdata\\input_mostlyCycles_1_8.txt',sep=' ',header=None)\n",
    "dfNum = len(df)"
   ]
  },
  {
   "cell_type": "code",
   "execution_count": 39,
   "metadata": {},
   "outputs": [
    {
     "name": "stdout",
     "output_type": "stream",
     "text": [
      "0 1\n",
      "1 7\n",
      "2 0\n",
      "3 6\n",
      "4 5\n",
      "5 4\n",
      "6 3\n",
      "7 2\n"
     ]
    }
   ],
   "source": [
    "g = Graph(dfNum )\n",
    "for i in range(dfNum):\n",
    "    x = df.iloc[i,0] -1 ; y = df.iloc[i,1] -1;\n",
    "    #print(x,y)\n",
    "    g.addEdge(x,y)"
   ]
  },
  {
   "cell_type": "code",
   "execution_count": 40,
   "metadata": {},
   "outputs": [
    {
     "name": "stdout",
     "output_type": "stream",
     "text": [
      "[1, 0, 2, 7, 3, 6, 4, 5]\n",
      "[2 1 3 5 7 8 6 4]\n"
     ]
    }
   ],
   "source": [
    "g.DFS()\n",
    "#print(g.stack)\n",
    "#print(g.finishingtime)"
   ]
  },
  {
   "cell_type": "code",
   "execution_count": 41,
   "metadata": {},
   "outputs": [],
   "source": [
    "grev = g.getTranspose()"
   ]
  },
  {
   "cell_type": "markdown",
   "metadata": {},
   "source": [
    "print(g.stack)\n",
    "grev = Graph(5,list(g.stack))\n",
    "grev.addEdge(0, 1) \n",
    "grev.addEdge(2, 0) \n",
    "grev.addEdge(1, 2) \n",
    "grev.addEdge(3, 0) \n",
    "grev.addEdge(4, 3) "
   ]
  },
  {
   "cell_type": "code",
   "execution_count": 42,
   "metadata": {},
   "outputs": [
    {
     "name": "stdout",
     "output_type": "stream",
     "text": [
      "[1, 0, 2, 7, 3, 6, 4, 5]\n"
     ]
    }
   ],
   "source": [
    "#print(grev.verticsindexlist)"
   ]
  },
  {
   "cell_type": "code",
   "execution_count": 43,
   "metadata": {},
   "outputs": [],
   "source": [
    "grev.DFS()"
   ]
  },
  {
   "cell_type": "code",
   "execution_count": 44,
   "metadata": {},
   "outputs": [
    {
     "data": {
      "text/plain": [
       "array([7, 7, 7, 6, 5, 5, 6, 7], dtype=int8)"
      ]
     },
     "execution_count": 44,
     "metadata": {},
     "output_type": "execute_result"
    }
   ],
   "source": [
    "#grev.leader"
   ]
  },
  {
   "cell_type": "code",
   "execution_count": 45,
   "metadata": {
    "collapsed": true
   },
   "outputs": [],
   "source": [
    "def countandoutmax5(np_array,numFind = 3):\n",
    "    tt = list(np.bincount(np_array))\n",
    "    array_max = []\n",
    "    for i in range(numFind):\n",
    "        max1 = max(tt)\n",
    "        array_max.append(max1)\n",
    "        tt.remove(max1)\n",
    "    return array_max"
   ]
  },
  {
   "cell_type": "code",
   "execution_count": 53,
   "metadata": {},
   "outputs": [],
   "source": [
    "num = 101; numVertices = 875714\n",
    "arrayOut = countandoutmax5(grev.leader,numFind = 5)\n",
    "with open('inputdata\\output_mostlyCycles_%d_%d.txt'%(num,numVertices),'w') as f:\n",
    "    f.write(str(arrayOut))"
   ]
  }
 ],
 "metadata": {
  "kernelspec": {
   "display_name": "Python 3",
   "language": "python",
   "name": "python3"
  },
  "language_info": {
   "codemirror_mode": {
    "name": "ipython",
    "version": 3
   },
   "file_extension": ".py",
   "mimetype": "text/x-python",
   "name": "python",
   "nbconvert_exporter": "python",
   "pygments_lexer": "ipython3",
   "version": "3.5.4"
  }
 },
 "nbformat": 4,
 "nbformat_minor": 2
}
